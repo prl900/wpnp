{
 "cells": [
  {
   "cell_type": "markdown",
   "metadata": {},
   "source": [
    "## Barotropic model\n",
    "\n",
    "The initial pressure situation chosen by Richardson to demostrate a bartropic model is a zonal wavenumber one perturbation given by:\n",
    "\n",
    "$$p_s=10^4 sin^2(\\phi)cos(\\phi)sin(\\lambda)$$\n",
    "\n",
    "Let's represent this perturbation"
   ]
  },
  {
   "cell_type": "code",
   "execution_count": 31,
   "metadata": {},
   "outputs": [
    {
     "data": {
      "image/png": "[encoded data removed]",
      "text/plain": [
       "<Figure size 432x288 with 1 Axes>"
      ]
     },
     "metadata": {
      "needs_background": "light"
     },
     "output_type": "display_data"
    },
    {
     "data": {
      "text/plain": [
       "(55.0, 90.0)"
      ]
     },
     "execution_count": 31,
     "metadata": {},
     "output_type": "execute_result"
    }
   ],
   "source": [
    "%matplotlib inline\n",
    "\n",
    "import numpy as np\n",
    "from matplotlib import pyplot as plt\n",
    "\n",
    "ϕ = np.linspace(90,-90,181)\n",
    "λ = np.linspace(-180,180,361)\n",
    "\n",
    "λλ, ϕϕ = np.meshgrid(np.radians(λ),np.radians(ϕ))\n",
    "\n",
    "ps = 10e4*np.square(np.sin(ϕϕ))*np.cos(ϕϕ)*np.sin(λλ)\n",
    "h = plt.contourf(λ,ϕ,ps)\n",
    "plt.show()"
   ]
  },
  {
   "cell_type": "markdown",
   "metadata": {},
   "source": [
    "Location of the centre of the high pressure system (Northern hemisphere)"
   ]
  },
  {
   "cell_type": "code",
   "execution_count": 33,
   "metadata": {},
   "outputs": [
    {
     "data": {
      "text/plain": [
       "(55.0, 90.0)"
      ]
     },
     "execution_count": 33,
     "metadata": {},
     "output_type": "execute_result"
    }
   ],
   "source": [
    "max_ϕi, max_λi = np.unravel_index(np.argmax(ps, axis=None), ps.shape)\n",
    "\n",
    "ϕ[max_ϕi], λ[max_λi]"
   ]
  },
  {
   "cell_type": "code",
   "execution_count": 34,
   "metadata": {},
   "outputs": [
    {
     "data": {
      "text/plain": [
       "0.6129070536529766"
      ]
     },
     "execution_count": 34,
     "metadata": {},
     "output_type": "execute_result"
    }
   ],
   "source": [
    "# Gravitational acceleration\n",
    "g = 9.79\n",
    "\n",
    "# Earth's angular velocity\n",
    "Ω = 1.458423e-4/2\n",
    "\n",
    "# Earth's radius\n",
    "a = 6.366e6\n",
    "\n",
    "λ0 = 0\n",
    "ϕ0 = 50.4\n",
    "\n",
    "Δλ = 5.625\n",
    "Δϕ = 3.6\n",
    "\n",
    "Δt = 2700 #3/4 hour\n",
    "\n",
    "ϕ = np.radians(np.array([ϕ0+Δϕ/2, ϕ0, ϕ0-Δϕ/2]))\n",
    "cosϕ = np.cos(ϕ)\n",
    "\n",
    "#λ = np.radians(np.array([λ0-Δλ, λ0, λ0+Δλ]))\n",
    "\n",
    "cosϕ[0]"
   ]
  },
  {
   "cell_type": "code",
   "execution_count": 2,
   "metadata": {},
   "outputs": [
    {
     "data": {
      "text/plain": [
       "-21684.593615966347"
      ]
     },
     "execution_count": 2,
     "metadata": {},
     "output_type": "execute_result"
    }
   ],
   "source": [
    "Ue = -1064.44\n",
    "Uw = 1064.44\n",
    "\n",
    "ΔU = Ue - Uw\n",
    "\n",
    "ΔU/np.radians(Δλ)"
   ]
  },
  {
   "cell_type": "code",
   "execution_count": 3,
   "metadata": {},
   "outputs": [
    {
     "data": {
      "text/plain": [
       "-18554.98251712508"
      ]
     },
     "execution_count": 3,
     "metadata": {},
     "output_type": "execute_result"
    }
   ],
   "source": [
    "Vn = 78295.45\n",
    "Vs = 74327.53\n",
    "\n",
    "(Vn*cosϕ[0]-Vs*cosϕ[2])/np.radians(Δϕ)"
   ]
  },
  {
   "cell_type": "code",
   "execution_count": 4,
   "metadata": {},
   "outputs": [
    {
     "data": {
      "text/plain": [
       "-0.009916498688737384"
      ]
     },
     "execution_count": 4,
     "metadata": {},
     "output_type": "execute_result"
    }
   ],
   "source": [
    "divV = (1/(a*cosϕ[1])) * (ΔU/np.radians(Δλ) + (Vn*cosϕ[0]-Vs*cosϕ[2])/np.radians(Δϕ))\n",
    "\n",
    "divV"
   ]
  },
  {
   "cell_type": "code",
   "execution_count": 35,
   "metadata": {},
   "outputs": [
    {
     "data": {
      "text/plain": [
       "2.6212280983939524"
      ]
     },
     "execution_count": 35,
     "metadata": {},
     "output_type": "execute_result"
    }
   ],
   "source": [
    "δp = -g*divV\n",
    "\n",
    "Δp = δp*Δt/100\n",
    "Δp # hPa"
   ]
  },
  {
   "cell_type": "code",
   "execution_count": null,
   "metadata": {},
   "outputs": [],
   "source": []
  }
 ],
 "metadata": {
  "kernelspec": {
   "display_name": "Python 3",
   "language": "python",
   "name": "python3"
  },
  "language_info": {
   "codemirror_mode": {
    "name": "ipython",
    "version": 3
   },
   "file_extension": ".py",
   "mimetype": "text/x-python",
   "name": "python",
   "nbconvert_exporter": "python",
   "pygments_lexer": "ipython3",
   "version": "3.6.9"
  }
 },
 "nbformat": 4,
 "nbformat_minor": 4
}
